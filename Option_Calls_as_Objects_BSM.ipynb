{
 "cells": [
  {
   "cell_type": "markdown",
   "metadata": {},
   "source": [
    "# Valuación de opciones con Black-Scholes\n",
    "\n",
    "Este trabajo utiliza fórmulas para determinar:\n",
    "\n",
    "* el precio de una opción dada su volatilidad.\n",
    "* la volatilidad implícita en el precio de una opción.\n",
    "* las variables \"griegas\" de una opción: su delta, gamma, theta, rho y vega.\n",
    "\n",
    "Estas luego se aplican a una implementación basada en objetos."
   ]
  },
  {
   "cell_type": "code",
   "execution_count": 186,
   "metadata": {},
   "outputs": [],
   "source": [
    "import numpy as np\n",
    "import pandas as pd\n",
    "import pandas_datareader as web\n",
    "import datetime as dt\n",
    "import os\n",
    "import scipy.stats as scs"
   ]
  },
  {
   "cell_type": "markdown",
   "metadata": {},
   "source": [
    "Estos son los paquetes a utilizar.  \n",
    "En caso de no poseer alguno de ellos, estos pueden ser instalados por medio del comando  \n",
    "! pip install {nombre_del_paquete}"
   ]
  },
  {
   "cell_type": "code",
   "execution_count": 171,
   "metadata": {},
   "outputs": [],
   "source": [
    "cd = 'C:\\\\Users\\\\Alfred\\\\PycharmProjects\\\\Clases_Programacion\\\\Programacion_Finanzas\\\\options_dfs\\\\'"
   ]
  },
  {
   "cell_type": "markdown",
   "metadata": {},
   "source": [
    "## Solución al problema de valuación de un Call de Black y Scholes"
   ]
  },
  {
   "cell_type": "markdown",
   "metadata": {},
   "source": [
    "${\\Large\\ C(S,t) = S.N(d1)-K.e\\,^{( -rf\\,.\\,TTM)}.N(d2)}$  \n",
    "  \n",
    "  \n",
    "donde  \n",
    "${\\Large\\ d1 = \\frac {ln(\\,^{S}/_{K}\\,)+ (rf+^{\\,\\sigma^2}/_{2}\\,)*TTM}{\\sigma \\sqrt {TTM}} -\\frac{\\sigma*\\sqrt{TTM}}{2}}$  \n",
    "  \n",
    "${\\Large\\ d2 = d1 - \\sigma \\sqrt{TTM}}$\n",
    "\n",
    "Siendo  \n",
    "  \n",
    "$ C =$ valor de un call  \n",
    "$ S =$ precio del subyacente  \n",
    "$ K = $ precio de ejercicio (strike)  \n",
    "$ TTM = $ tiempo hasta el vencimiento (en años)  \n",
    "$ \\sigma = $ volatilidad (anual)  \n",
    "$ rf = $ tasa libre de riesgo (anual)\n",
    "  \n",
    "$ N() = $ función de distribución normal"
   ]
  },
  {
   "cell_type": "code",
   "execution_count": 172,
   "metadata": {},
   "outputs": [],
   "source": [
    "def BSM_call_price(p_last:float, strike:float, TTM:float, rf:float, vol:float):\n",
    "    d1 = (np.log(p_last / strike) + (rf + 1/2 * vol ** 2) * TTM) / (vol * np.sqrt(TTM))\n",
    "    d2 = (np.log(p_last / strike) + (rf - 1/2 * vol ** 2) * TTM) / (vol * np.sqrt(TTM))\n",
    "            \n",
    "    call_price = (p_last * scs.norm.cdf(d1, 0, 1) - strike * np.exp(-rf * TTM) * scs.norm.cdf(d2, 0, 1))\n",
    "    \n",
    "    return call_price, d1, d2"
   ]
  },
  {
   "cell_type": "markdown",
   "metadata": {},
   "source": [
    "Esta es la función que toma como inputs las variables de la acción y calcula su valor teórico según Black Scholes."
   ]
  },
  {
   "cell_type": "code",
   "execution_count": 173,
   "metadata": {},
   "outputs": [],
   "source": [
    "def BSM_imp_vol(call_price:float, p_last:float, strike:float, TTM:float, rf:float):\n",
    "    iv = 0.4\n",
    "    iters = 1\n",
    "    \n",
    "    while iters < 1000:\n",
    "        result, d1, d2 = BSM_call_price(p_last, strike, TTM, rf, iv)\n",
    "        \n",
    "        if result > call_price:\n",
    "            iv = iv-0.001\n",
    "            iters = iters+1\n",
    "        \n",
    "        elif result < call_price:\n",
    "            iv = iv+0.001\n",
    "            iters = iters+1\n",
    "        \n",
    "        else:\n",
    "            break\n",
    "            \n",
    "    if (call_price - result > call_price*0.05):\n",
    "        raise Warning\n",
    "    \n",
    "    return iv"
   ]
  },
  {
   "cell_type": "markdown",
   "metadata": {},
   "source": [
    "Esta función es la que calcula la volatilidad implícita de una opción, tomando el precio como dado."
   ]
  },
  {
   "cell_type": "code",
   "execution_count": 174,
   "metadata": {},
   "outputs": [],
   "source": [
    "def call_delta(d1):\n",
    "    return scs.norm.cdf(d1, 0, 1)"
   ]
  },
  {
   "cell_type": "code",
   "execution_count": 175,
   "metadata": {},
   "outputs": [],
   "source": [
    "def call_gamma(p_last, TTM, vol, d1):\n",
    "    return 1/np.sqrt(2*np.pi*np.exp((-(d1)**2)/2))/(p_last*vol*TTM)"
   ]
  },
  {
   "cell_type": "code",
   "execution_count": 176,
   "metadata": {},
   "outputs": [],
   "source": [
    "def call_theta(p_last, strike, TTM, rf, vol, d1, d2):\n",
    "    return (vol * p_last * (1/np.sqrt(2*np.pi)*np.exp((-(d1)**2)/2))/(2*np.sqrt(TTM)) - rf*strike*np.exp(-rf*TTM)*scs.norm.cdf(d2, 0, 1))/100"
   ]
  },
  {
   "cell_type": "code",
   "execution_count": 177,
   "metadata": {},
   "outputs": [],
   "source": [
    "def call_vega(p_last: float, TTM, d1):\n",
    "    return (p_last * (1/np.sqrt(2*np.pi)*np.exp((-(d1)**2)/2)) * np.sqrt(TTM))/100"
   ]
  },
  {
   "cell_type": "code",
   "execution_count": 178,
   "metadata": {},
   "outputs": [],
   "source": [
    "def call_rho(strike, TTM, rf, d2):\n",
    "    return TTM * strike * np.exp(-rf*TTM)* scs.norm.cdf(d2, 0, 1)"
   ]
  },
  {
   "cell_type": "code",
   "execution_count": 215,
   "metadata": {},
   "outputs": [],
   "source": [
    "class Call:\n",
    "    def __init__(self, ticker:str, strike:float, opex, rf:float, call_price=None, vol=None):\n",
    "        self.underlying = ticker\n",
    "        self.strike = strike\n",
    "        self.opex = dt.datetime.strptime(opex, '%d/%m/%Y').date()\n",
    "        self.rf = rf\n",
    "        self.TTM = (self.opex - dt.date.today()).days/365.25\n",
    "        \n",
    "        # Descarga de datos históricos\n",
    "        if not os.path.exists(cd+ticker+'.csv'):\n",
    "            df = web.DataReader(ticker, 'yahoo', \n",
    "                                start= (dt.date.today()-dt.timedelta(366)),  \n",
    "                                end=(dt.date.today()-dt.timedelta(1)))\n",
    "            df.to_csv(cd+ticker+'.csv')\n",
    "            self.p_underlying = df['Adj Close']\n",
    "            \n",
    "        else:\n",
    "            df = pd.read_csv(cd+ticker+'.csv')\n",
    "            self.p_underlying = df['Adj Close']\n",
    "            \n",
    "        \n",
    "        self.returns = self.p_underlying/self.p_underlying.shift(1)\n",
    "        self.p_last = self.p_underlying.iloc[-1]\n",
    "        \n",
    "        \n",
    "        if (call_price == None) and (vol != None):\n",
    "            # calculo de precio teórico según volatilidad dada\n",
    "            self.vol = vol\n",
    "            self.call_price, self.d1, self.d2 = BSM_call_price(self.p_last, self.strike, self.TTM, self.rf, self.vol)\n",
    "            self.method = 'Black Scholes Fair Value from input vol'\n",
    "\n",
    "        elif (call_price==None) and (vol==None):\n",
    "            # calculo de precio teórico según volatilidad histórica\n",
    "            self.vol = ((self.returns.std()* np.sqrt(252))**2) \n",
    "            self.call_price, self.d1, self.d2 = BSM_call_price(self.p_last, self.strike, self.TTM, self.rf, self.vol)\n",
    "            self.method = 'Black Scholes Fair Value from 1 year vol'\n",
    "        \n",
    "        elif (call_price != None):\n",
    "            # calculo de volatilidad implícita según precio dado\n",
    "            self.call_price = call_price\n",
    "            self.vol = BSM_imp_vol(self.call_price, self.p_last, self.strike, self.TTM, self.rf)\n",
    "            self.method = 'Implied volatility from price'\n",
    "            # Llamamos nuevamente a la función inversa que hicimos para obtener los valores de d1 y d2 que vamos a utilizar en el cálculo de las griegas\n",
    "            _, self.d1, self.d2 = BSM_call_price(self.p_last, self.strike, self.TTM, self.rf, self.vol)\n",
    "\n",
    "        else:\n",
    "            raise AttributeError\n",
    "       \n",
    "    \n",
    "    def calculate_greeks(self):\n",
    "        self.delta = call_delta(self.d1)\n",
    "        self.gamma = call_gamma(self.p_last, self.TTM, self.vol, self.d1)\n",
    "        self.theta = call_theta(self.p_last, self.strike, self.TTM, self.rf, self.vol, self.d1, self.d2)        \n",
    "        self.vega = call_vega(self.p_last, self.TTM, self.d1)\n",
    "        self.rho = call_rho(self.strike, self.TTM, self.rf, self.d2)\n",
    "        \n",
    "    def attributes(self):\n",
    "        aux_df = pd.DataFrame(index=['Ticker','Last Underlying price','Strike price','Expiry date',\n",
    "                                     'Time to maturity', 'Risk free rate used', \n",
    "                                     'Call price', 'Volatility', 'Pricing method'])\n",
    "        \n",
    "        aux_df['attribute'] = [self.underlying, self.p_last, self.strike, self.opex,\n",
    "                              self.TTM, self.rf, self.call_price, self.vol, self.method]\n",
    "        \n",
    "        try:\n",
    "            greek_df = pd.DataFrame(index=['Delta', 'Gamma', 'Theta', 'Vega', 'Rho'])\n",
    "            greek_df['attribute']=[self.delta, self.gamma, self.theta, self.vega, self.rho]\n",
    "            aux_df = aux_df.append(greek_df)\n",
    "            \n",
    "            return aux_df.transpose()\n",
    "            \n",
    "            \n",
    "        except:\n",
    "            return aux_df.transpose()"
   ]
  },
  {
   "cell_type": "markdown",
   "metadata": {},
   "source": [
    "Esta es la clase del Objeto Call que vamos a utilizar.  \n",
    "El objetivo es que este objeto contenga los datos fijos del contrato: identificación del subyacente, precio de ejercicio, fecha de vencimiento y la tasa de interés a utilizar.  \n",
    "  \n",
    "  ***  \n",
    "    "
   ]
  },
  {
   "cell_type": "markdown",
   "metadata": {},
   "source": [
    "# Pricing y asignación de volatilidad"
   ]
  },
  {
   "cell_type": "markdown",
   "metadata": {},
   "source": [
    "## Ejemplo 1: volatilidad conocida"
   ]
  },
  {
   "cell_type": "markdown",
   "metadata": {},
   "source": [
    "Primero veremos el ejemplo típico teórico: tenemos una opción, conocemos su volatilidad esperada, y buscamos determinar el precio teórico segun el modelo.  \n",
    "Determinamos que esta será del orden del 50% anual"
   ]
  },
  {
   "cell_type": "code",
   "execution_count": 216,
   "metadata": {},
   "outputs": [],
   "source": [
    "GFGC160_OC = Call('GGAL.BA', 160, '16/10/2020', 0.2, vol=0.5)"
   ]
  },
  {
   "cell_type": "markdown",
   "metadata": {},
   "source": [
    "Buscamos conocer algunos atributos de la opción, como su tiempo hasta el vencimiento."
   ]
  },
  {
   "cell_type": "code",
   "execution_count": 217,
   "metadata": {},
   "outputs": [
    {
     "data": {
      "text/plain": [
       "0.12046543463381246"
      ]
     },
     "execution_count": 217,
     "metadata": {},
     "output_type": "execute_result"
    }
   ],
   "source": [
    "GFGC160_OC.TTM"
   ]
  },
  {
   "cell_type": "code",
   "execution_count": 218,
   "metadata": {
    "scrolled": true
   },
   "outputs": [
    {
     "data": {
      "text/html": [
       "<div>\n",
       "<style scoped>\n",
       "    .dataframe tbody tr th:only-of-type {\n",
       "        vertical-align: middle;\n",
       "    }\n",
       "\n",
       "    .dataframe tbody tr th {\n",
       "        vertical-align: top;\n",
       "    }\n",
       "\n",
       "    .dataframe thead th {\n",
       "        text-align: right;\n",
       "    }\n",
       "</style>\n",
       "<table border=\"1\" class=\"dataframe\">\n",
       "  <thead>\n",
       "    <tr style=\"text-align: right;\">\n",
       "      <th></th>\n",
       "      <th>Ticker</th>\n",
       "      <th>Last Underlying price</th>\n",
       "      <th>Strike price</th>\n",
       "      <th>Expiry date</th>\n",
       "      <th>Time to maturity</th>\n",
       "      <th>Risk free rate used</th>\n",
       "      <th>Call price</th>\n",
       "      <th>Volatility</th>\n",
       "      <th>Pricing method</th>\n",
       "    </tr>\n",
       "  </thead>\n",
       "  <tbody>\n",
       "    <tr>\n",
       "      <th>attribute</th>\n",
       "      <td>GGAL.BA</td>\n",
       "      <td>133.05</td>\n",
       "      <td>160</td>\n",
       "      <td>2020-10-16</td>\n",
       "      <td>0.120465</td>\n",
       "      <td>0.2</td>\n",
       "      <td>2.39819</td>\n",
       "      <td>0.5</td>\n",
       "      <td>Black Scholes Fair Value from input vol</td>\n",
       "    </tr>\n",
       "  </tbody>\n",
       "</table>\n",
       "</div>"
      ],
      "text/plain": [
       "            Ticker Last Underlying price Strike price Expiry date  \\\n",
       "attribute  GGAL.BA                133.05          160  2020-10-16   \n",
       "\n",
       "          Time to maturity Risk free rate used Call price Volatility  \\\n",
       "attribute         0.120465                 0.2    2.39819        0.5   \n",
       "\n",
       "                                    Pricing method  \n",
       "attribute  Black Scholes Fair Value from input vol  "
      ]
     },
     "execution_count": 218,
     "metadata": {},
     "output_type": "execute_result"
    }
   ],
   "source": [
    "GFGC160_OC.attributes()"
   ]
  },
  {
   "cell_type": "markdown",
   "metadata": {},
   "source": [
    "Las funciones determinan el precio del call en approx $ \\$2.5$.  \n",
    "Vemos que el método de precio es determinado por la volatilidad introducida.\n",
    "  \n",
    "  ***  \n",
    "  "
   ]
  },
  {
   "cell_type": "markdown",
   "metadata": {},
   "source": [
    "## Ejemplo 2: Volatilidad histórica\n",
    "\n",
    "Si introducimos a la opción sin precio de opción ni volatilidad, el objeto estimará la volatilidad resultante del último año de operatoria, y utilizará este valor para el cálculo del precio de la opción."
   ]
  },
  {
   "cell_type": "code",
   "execution_count": 219,
   "metadata": {},
   "outputs": [
    {
     "data": {
      "text/html": [
       "<div>\n",
       "<style scoped>\n",
       "    .dataframe tbody tr th:only-of-type {\n",
       "        vertical-align: middle;\n",
       "    }\n",
       "\n",
       "    .dataframe tbody tr th {\n",
       "        vertical-align: top;\n",
       "    }\n",
       "\n",
       "    .dataframe thead th {\n",
       "        text-align: right;\n",
       "    }\n",
       "</style>\n",
       "<table border=\"1\" class=\"dataframe\">\n",
       "  <thead>\n",
       "    <tr style=\"text-align: right;\">\n",
       "      <th></th>\n",
       "      <th>Ticker</th>\n",
       "      <th>Last Underlying price</th>\n",
       "      <th>Strike price</th>\n",
       "      <th>Expiry date</th>\n",
       "      <th>Time to maturity</th>\n",
       "      <th>Risk free rate used</th>\n",
       "      <th>Call price</th>\n",
       "      <th>Volatility</th>\n",
       "      <th>Pricing method</th>\n",
       "    </tr>\n",
       "  </thead>\n",
       "  <tbody>\n",
       "    <tr>\n",
       "      <th>attribute</th>\n",
       "      <td>GGAL.BA</td>\n",
       "      <td>133.05</td>\n",
       "      <td>160</td>\n",
       "      <td>2020-10-16</td>\n",
       "      <td>0.120465</td>\n",
       "      <td>0.2</td>\n",
       "      <td>4.04578</td>\n",
       "      <td>0.617103</td>\n",
       "      <td>Black Scholes Fair Value from 1 year vol</td>\n",
       "    </tr>\n",
       "  </tbody>\n",
       "</table>\n",
       "</div>"
      ],
      "text/plain": [
       "            Ticker Last Underlying price Strike price Expiry date  \\\n",
       "attribute  GGAL.BA                133.05          160  2020-10-16   \n",
       "\n",
       "          Time to maturity Risk free rate used Call price Volatility  \\\n",
       "attribute         0.120465                 0.2    4.04578   0.617103   \n",
       "\n",
       "                                     Pricing method  \n",
       "attribute  Black Scholes Fair Value from 1 year vol  "
      ]
     },
     "execution_count": 219,
     "metadata": {},
     "output_type": "execute_result"
    }
   ],
   "source": [
    "GFGC160_OC = Call('GGAL.BA',160, '16/10/2020', 0.2)\n",
    "\n",
    "GFGC160_OC.attributes()"
   ]
  },
  {
   "cell_type": "markdown",
   "metadata": {},
   "source": [
    "Nuevamente observamos que el método de valuación resalta la fuente como la vol. histórica.  \n",
    "Vemos así que la volatilidad del último año es mayor a nuestro supuesto de 50% anual, lo que resulta en una valuación superior a la opción (approx el doble).  \n",
    "Dado que el único cambio en estas valuaciones corresponde a la volatilidad implícita (50% vs. 62%) podemos hacer una aproximación lineal por medio del vega ($ \\nu $) de la opción."
   ]
  },
  {
   "cell_type": "code",
   "execution_count": 220,
   "metadata": {},
   "outputs": [
    {
     "data": {
      "text/html": [
       "<div>\n",
       "<style scoped>\n",
       "    .dataframe tbody tr th:only-of-type {\n",
       "        vertical-align: middle;\n",
       "    }\n",
       "\n",
       "    .dataframe tbody tr th {\n",
       "        vertical-align: top;\n",
       "    }\n",
       "\n",
       "    .dataframe thead th {\n",
       "        text-align: right;\n",
       "    }\n",
       "</style>\n",
       "<table border=\"1\" class=\"dataframe\">\n",
       "  <thead>\n",
       "    <tr style=\"text-align: right;\">\n",
       "      <th></th>\n",
       "      <th>Ticker</th>\n",
       "      <th>Last Underlying price</th>\n",
       "      <th>Strike price</th>\n",
       "      <th>Expiry date</th>\n",
       "      <th>Time to maturity</th>\n",
       "      <th>Risk free rate used</th>\n",
       "      <th>Call price</th>\n",
       "      <th>Volatility</th>\n",
       "      <th>Pricing method</th>\n",
       "      <th>Delta</th>\n",
       "      <th>Gamma</th>\n",
       "      <th>Theta</th>\n",
       "      <th>Vega</th>\n",
       "      <th>Rho</th>\n",
       "    </tr>\n",
       "  </thead>\n",
       "  <tbody>\n",
       "    <tr>\n",
       "      <th>attribute</th>\n",
       "      <td>GGAL.BA</td>\n",
       "      <td>133.05</td>\n",
       "      <td>160</td>\n",
       "      <td>2020-10-16</td>\n",
       "      <td>0.120465</td>\n",
       "      <td>0.2</td>\n",
       "      <td>4.04578</td>\n",
       "      <td>0.617103</td>\n",
       "      <td>Black Scholes Fair Value from 1 year vol</td>\n",
       "      <td>0.260571</td>\n",
       "      <td>0.0447062</td>\n",
       "      <td>0.322847</td>\n",
       "      <td>0.149959</td>\n",
       "      <td>3.68904</td>\n",
       "    </tr>\n",
       "  </tbody>\n",
       "</table>\n",
       "</div>"
      ],
      "text/plain": [
       "            Ticker Last Underlying price Strike price Expiry date  \\\n",
       "attribute  GGAL.BA                133.05          160  2020-10-16   \n",
       "\n",
       "          Time to maturity Risk free rate used Call price Volatility  \\\n",
       "attribute         0.120465                 0.2    4.04578   0.617103   \n",
       "\n",
       "                                     Pricing method     Delta      Gamma  \\\n",
       "attribute  Black Scholes Fair Value from 1 year vol  0.260571  0.0447062   \n",
       "\n",
       "              Theta      Vega      Rho  \n",
       "attribute  0.322847  0.149959  3.68904  "
      ]
     },
     "execution_count": 220,
     "metadata": {},
     "output_type": "execute_result"
    }
   ],
   "source": [
    "GFGC160_OC.calculate_greeks()\n",
    "\n",
    "GFGC160_OC.attributes()"
   ]
  },
  {
   "cell_type": "markdown",
   "metadata": {},
   "source": [
    "El vega mide el cambio en el precio de la opción respecto al cambio de 1 punto de volatilidad.  \n",
    "\n",
    "Por lo tanto, una aproximación lineal sería de $(62\\%-50\\%)*0.1528 = 1.834$ de diferencia entre una opcion y la otra.  \n",
    "\n",
    "En cuanto a los calculos precisos, la diferencia entre uno y otro es de $4.1676-2.4854 = 1.6822$.\n",
    "\n",
    "Resulta una aproximación razonable, dentro de un 10% del valor real.  \n",
    "\n",
    "La diferencia se debe a que el valor de vega, va cambiando con el mismo.  Es decir $$\\Large\\ \\nu = \\frac{\\partial C}{\\partial \\sigma}$$  \n",
    "\n",
    "Pero a su vez, este valor es variable con respecto al precio del subyacente, es decir, para una aproximación de segundo orden deberemos calcular el $vanna$ de la opción: \n",
    "$$ \\large\\ \\frac{\\partial \\nu}{\\partial S}= \\frac{\\partial^2 C}{\\partial S \\, \\partial \\sigma}$$  \n",
    "  \n",
    "  ***"
   ]
  },
  {
   "cell_type": "markdown",
   "metadata": {},
   "source": [
    "## Ejemplo 3: Volatilidad implícita\n",
    "\n",
    "Cuando introducimos un precio de opción sin incluir una volatilidad, el objeto interpreta que buscamos la volatilidad implícita. Es decir, este es el ejemplo converso al Ejemplo 1."
   ]
  },
  {
   "cell_type": "code",
   "execution_count": 221,
   "metadata": {},
   "outputs": [
    {
     "data": {
      "text/html": [
       "<div>\n",
       "<style scoped>\n",
       "    .dataframe tbody tr th:only-of-type {\n",
       "        vertical-align: middle;\n",
       "    }\n",
       "\n",
       "    .dataframe tbody tr th {\n",
       "        vertical-align: top;\n",
       "    }\n",
       "\n",
       "    .dataframe thead th {\n",
       "        text-align: right;\n",
       "    }\n",
       "</style>\n",
       "<table border=\"1\" class=\"dataframe\">\n",
       "  <thead>\n",
       "    <tr style=\"text-align: right;\">\n",
       "      <th></th>\n",
       "      <th>Ticker</th>\n",
       "      <th>Last Underlying price</th>\n",
       "      <th>Strike price</th>\n",
       "      <th>Expiry date</th>\n",
       "      <th>Time to maturity</th>\n",
       "      <th>Risk free rate used</th>\n",
       "      <th>Call price</th>\n",
       "      <th>Volatility</th>\n",
       "      <th>Pricing method</th>\n",
       "      <th>Delta</th>\n",
       "      <th>Gamma</th>\n",
       "      <th>Theta</th>\n",
       "      <th>Vega</th>\n",
       "      <th>Rho</th>\n",
       "    </tr>\n",
       "  </thead>\n",
       "  <tbody>\n",
       "    <tr>\n",
       "      <th>attribute</th>\n",
       "      <td>GGAL.BA</td>\n",
       "      <td>133.05</td>\n",
       "      <td>160</td>\n",
       "      <td>2020-10-16</td>\n",
       "      <td>0.120465</td>\n",
       "      <td>0.2</td>\n",
       "      <td>2.48542</td>\n",
       "      <td>0.507</td>\n",
       "      <td>Implied volatility from price</td>\n",
       "      <td>0.205174</td>\n",
       "      <td>0.0581587</td>\n",
       "      <td>0.226625</td>\n",
       "      <td>0.131273</td>\n",
       "      <td>2.98861</td>\n",
       "    </tr>\n",
       "  </tbody>\n",
       "</table>\n",
       "</div>"
      ],
      "text/plain": [
       "            Ticker Last Underlying price Strike price Expiry date  \\\n",
       "attribute  GGAL.BA                133.05          160  2020-10-16   \n",
       "\n",
       "          Time to maturity Risk free rate used Call price Volatility  \\\n",
       "attribute         0.120465                 0.2    2.48542      0.507   \n",
       "\n",
       "                          Pricing method     Delta      Gamma     Theta  \\\n",
       "attribute  Implied volatility from price  0.205174  0.0581587  0.226625   \n",
       "\n",
       "               Vega      Rho  \n",
       "attribute  0.131273  2.98861  "
      ]
     },
     "execution_count": 221,
     "metadata": {},
     "output_type": "execute_result"
    }
   ],
   "source": [
    "GFGC160_OC = Call('GGAL.BA', 160, '16/10/2020', 0.2, call_price=2.48542)\n",
    "\n",
    "GFGC160_OC.calculate_greeks()\n",
    "\n",
    "GFGC160_OC.attributes()"
   ]
  },
  {
   "cell_type": "markdown",
   "metadata": {},
   "source": [
    "Podemos ver por este ejemplo que introduciendo como precio al valor obtenido del precio de la opción en el ejemplo 1, obtenemos la volatilidad esperada: 50%.  \n",
    "Por lo tanto, vemos un ejemplo de cómo podemos reversar la operación de precio del modelo Black-Scholes."
   ]
  }
 ],
 "metadata": {
  "kernelspec": {
   "display_name": "Python 3",
   "language": "python",
   "name": "python3"
  },
  "language_info": {
   "codemirror_mode": {
    "name": "ipython",
    "version": 3
   },
   "file_extension": ".py",
   "mimetype": "text/x-python",
   "name": "python",
   "nbconvert_exporter": "python",
   "pygments_lexer": "ipython3",
   "version": "3.7.5"
  }
 },
 "nbformat": 4,
 "nbformat_minor": 2
}
