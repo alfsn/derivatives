{
 "cells": [
  {
   "cell_type": "markdown",
   "metadata": {},
   "source": [
    "# Valuación de opciones con Black-Scholes\n",
    "\n",
    "Este trabajo utiliza fórmulas para determinar:\n",
    "\n",
    "* el precio de una opción dada su volatilidad.\n",
    "* la volatilidad implícita en el precio de una opción. "
   ]
  },
  {
   "cell_type": "code",
   "execution_count": 16,
   "metadata": {},
   "outputs": [],
   "source": [
    "import numpy as np\n",
    "import pandas as pd\n",
    "import datetime as dt\n",
    "import scipy.stats as scs"
   ]
  },
  {
   "cell_type": "markdown",
   "metadata": {},
   "source": [
    "Estos son los paquetes a utilizar.  \n",
    "En caso de no poseer alguno de ellos, estos pueden ser instalados por medio del comando  \n",
    "! pip install {nombre_del_paquete}"
   ]
  },
  {
   "cell_type": "code",
   "execution_count": 8,
   "metadata": {},
   "outputs": [],
   "source": [
    "def BSM_call_price(p_last:float, strike:float, TTM:float, rf:float, vol:float):\n",
    "    d1 = (np.log(p_last / strike) + (rf + 1/2 * vol ** 2) * TTM) / (vol * np.sqrt(TTM))\n",
    "    d2 = (np.log(p_last / strike) + (rf - 1/2 * vol ** 2) * TTM) / (vol * np.sqrt(TTM))\n",
    "            \n",
    "    call_price = (p_last * scs.norm.cdf(d1, 0, 1) - strike * np.exp(-rf * TTM) * scs.norm.cdf(d2, 0, 1))\n",
    "    \n",
    "    return call_price, d1, d2"
   ]
  },
  {
   "cell_type": "markdown",
   "metadata": {},
   "source": [
    "Esta es la función que toma como inputs las variables de la acción y calcula su valor teórico según Black Scholes.  \n",
    "\n",
    "Veamos un ejemplo, una opción cuyo subyacente cotiza a `$`100, un precio de ejercicio de `$`110, 6 meses a su expiración, una tasa de interés del 20`%` y una volatilidad del 25`%` anual."
   ]
  },
  {
   "cell_type": "code",
   "execution_count": 11,
   "metadata": {},
   "outputs": [
    {
     "name": "stdout",
     "output_type": "stream",
     "text": [
      "7.263128976480701\n"
     ]
    }
   ],
   "source": [
    "call_price, _, _ = BSM_call_price(100, 110, 0.5, 0.2, 0.25)\n",
    "print(call_price)"
   ]
  },
  {
   "cell_type": "code",
   "execution_count": 9,
   "metadata": {},
   "outputs": [],
   "source": [
    "def BSM_imp_vol(call_price:float, p_last:float, strike:float, TTM:float, rf:float):\n",
    "    iv = 0.1\n",
    "    iters = 1\n",
    "    \n",
    "    while iters < 1000:\n",
    "        result, d1, d2 = BSM_call_price(p_last, strike, TTM, rf, iv)\n",
    "        \n",
    "        if result > call_price:\n",
    "            iv = iv-0.005\n",
    "            iters = iters+1\n",
    "        \n",
    "        elif result < call_price:\n",
    "            iv = iv+0.005\n",
    "            iters = iters+1\n",
    "        \n",
    "        else:\n",
    "            break\n",
    "            \n",
    "    if (call_price - result > call_price*0.05):\n",
    "        raise Warning\n",
    "    \n",
    "    return iv"
   ]
  },
  {
   "cell_type": "markdown",
   "metadata": {},
   "source": [
    "Esta función es la que calcula la volatilidad implícita de una opción, tomando el precio como dado.  \n",
    "\n",
    "Usaremos esta función para reversar la operación anterior.  \n",
    "Es decir, estimaremos la volatilidad implícita de una opción con las mismas características, y con el precio que recibimos del último calculo."
   ]
  },
  {
   "cell_type": "code",
   "execution_count": 14,
   "metadata": {},
   "outputs": [
    {
     "name": "stdout",
     "output_type": "stream",
     "text": [
      "0.2500000000000001\n"
     ]
    }
   ],
   "source": [
    "iv = BSM_imp_vol(call_price, 100, 110, 0.5, 0.2)\n",
    "print(iv)"
   ]
  },
  {
   "cell_type": "markdown",
   "metadata": {},
   "source": [
    "Vemos así que esta es una operación reversible.  \n",
    "Utilizaremos estas mismas fórmulas próximamente para una implementación en objetos de opciones de compra."
   ]
  }
 ],
 "metadata": {
  "kernelspec": {
   "display_name": "Python 3",
   "language": "python",
   "name": "python3"
  },
  "language_info": {
   "codemirror_mode": {
    "name": "ipython",
    "version": 3
   },
   "file_extension": ".py",
   "mimetype": "text/x-python",
   "name": "python",
   "nbconvert_exporter": "python",
   "pygments_lexer": "ipython3",
   "version": "3.7.5"
  }
 },
 "nbformat": 4,
 "nbformat_minor": 2
}
